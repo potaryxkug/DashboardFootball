{
 "cells": [
  {
   "cell_type": "code",
   "execution_count": 2,
   "metadata": {},
   "outputs": [],
   "source": [
    "import requests\n",
    "from bs4 import BeautifulSoup\n",
    "import pandas as pd\n",
    "\n",
    "from clubs import *\n",
    "from pays import *\n",
    "from clubAdversaire import *"
   ]
  },
  {
   "cell_type": "code",
   "execution_count": null,
   "metadata": {},
   "outputs": [],
   "source": [
    "# les pays\n",
    "countriesPagelink= \"https://fbref.com/fr/equipes/\"\n",
    "df_info_pays = LesPays(countriesPagelink=countriesPagelink)\n",
    "# les clubs\n",
    "df_infoclub = LesClubs(df_info_pays.lienDesClubs)\n",
    "# les liens vers le détails des clubs\n",
    "LiensDetails= df_infoclub.lienClubDetails\n",
    "len(LiensDetails)\n",
    "\n"
   ]
  },
  {
   "cell_type": "code",
   "execution_count": 13,
   "metadata": {},
   "outputs": [
    {
     "data": {
      "text/plain": [
       "'https://fbref.com/fr/equipes/2b924bc5/historique/Stats-et-historique-de-KF-Teuta-Durres'"
      ]
     },
     "execution_count": 13,
     "metadata": {},
     "output_type": "execute_result"
    }
   ],
   "source": [
    "\"https://fbref.com/fr/equipes/e2d8892c/2020-2021/Statistiques-Paris-Saint-Germain\"\n",
    "lLiensDetails = [i for i in LiensDetails]\n",
    "lLiensDetails[10]\n"
   ]
  }
 ],
 "metadata": {
  "interpreter": {
   "hash": "9c3216231ecb8ecb8cda08996bf50593c3c612d203214671eadecacd32866a4a"
  },
  "kernelspec": {
   "display_name": "Python 3.10.0 64-bit",
   "name": "python3"
  },
  "language_info": {
   "codemirror_mode": {
    "name": "ipython",
    "version": 3
   },
   "file_extension": ".py",
   "mimetype": "text/x-python",
   "name": "python",
   "nbconvert_exporter": "python",
   "pygments_lexer": "ipython3",
   "version": "3.10.0"
  },
  "orig_nbformat": 4
 },
 "nbformat": 4,
 "nbformat_minor": 2
}
